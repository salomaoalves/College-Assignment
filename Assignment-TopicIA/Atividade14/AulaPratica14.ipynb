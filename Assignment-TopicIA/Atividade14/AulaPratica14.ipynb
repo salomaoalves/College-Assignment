{
  "nbformat": 4,
  "nbformat_minor": 0,
  "metadata": {
    "colab": {
      "name": "AulaPratica14.ipynb",
      "provenance": [],
      "collapsed_sections": []
    },
    "kernelspec": {
      "name": "python3",
      "display_name": "Python 3"
    }
  },
  "cells": [
    {
      "cell_type": "code",
      "metadata": {
        "id": "srB6XcS82w33"
      },
      "source": [
        "# Aula Prática nº4 - Agrupamento de Dados\n",
        "# Grupo: Fabrício Fernandes Ziliotti - 11711BCC002\n",
        "#\t       Marcos Victor de Aquino Barra - 11711BCC007\n",
        "#\t       Salomão Oliveira Alves - 11711BCC038"
      ],
      "execution_count": 128,
      "outputs": []
    },
    {
      "cell_type": "code",
      "metadata": {
        "id": "qOKGZmia26sS",
        "outputId": "7b4dcaa3-9095-4f98-80dd-00df46d489fe",
        "colab": {
          "base_uri": "https://localhost:8080/",
          "height": 35
        }
      },
      "source": [
        "from google.colab import drive\n",
        "drive.mount('/content/gdrive/')"
      ],
      "execution_count": 129,
      "outputs": [
        {
          "output_type": "stream",
          "text": [
            "Drive already mounted at /content/gdrive/; to attempt to forcibly remount, call drive.mount(\"/content/gdrive/\", force_remount=True).\n"
          ],
          "name": "stdout"
        }
      ]
    },
    {
      "cell_type": "code",
      "metadata": {
        "id": "MR4AnMul26pk"
      },
      "source": [
        "#CELULA 1\n",
        "import pandas as pd\n",
        "import numpy as np\n",
        "import math\n",
        "import matplotlib.pyplot as plt \n",
        "import random"
      ],
      "execution_count": 130,
      "outputs": []
    },
    {
      "cell_type": "code",
      "metadata": {
        "id": "4huAxF2y26kY"
      },
      "source": [
        "# CELULA 2\n",
        "\n",
        "# ler o arquivo csv\n",
        "def le_arq(arq_url):\n",
        "  data = pd.read_csv(arq_url, header=None)\n",
        "  classe = np.array(data.iloc[:,4])\n",
        "  data = np.array(data.iloc[:,0:4])\n",
        "  return data, classe\n",
        "\n",
        "\n",
        "def exportToCsv(np_array, export_file_path, purity_table, name):\n",
        "  np_array.to_csv(export_file_path +\"kmeans-\"+ name + \"-clusters.csv\")\n",
        "  purity_table.to_csv(export_file_path +\"purity-\"+ name + \"-clusters.csv\")\n",
        "\n",
        "\n",
        "# calcula a distância euclidiana entre dois pontos\n",
        "def euclidiana(vetor1, vetor2):\n",
        "\t\n",
        "\tif(len(vetor1) != len(vetor2)):\n",
        "\t\tprint(len(vetor1))\n",
        "\t\tprint(len(vetor2))\n",
        "\t\n",
        "\t\tprint(\"Os dois vetores devem possuir a mesma quantidade de elementos.\")\n",
        "\t\tinput()\n",
        "\t\treturn\n",
        "\n",
        "\tqtdElementos, soma = len(vetor1), 0\n",
        "\t\n",
        "\tfor i in range(qtdElementos):\n",
        "\t\tsoma += math.pow(vetor1[i] - vetor2[i], 2)\n",
        "  \n",
        "\treturn math.sqrt(soma)\n",
        " \n",
        "\n",
        "#Algoritmo K-Means\n",
        "def Kcluster(data, k=3):\n",
        "  \n",
        "  #Escolhe aleatoriamente K centróides\n",
        "  centroids_indexes = random.sample(range(len(data)), k=k)\n",
        "  centroids = data[[centroids_indexes]]\n",
        "\n",
        "\n",
        "  #O número de iterações será no máximo 100\n",
        "  for t in range(100):\n",
        "    #Cria uma lista contendo 3 lista vazias (vai ter id dentro dele). Esses serão os nossos clusters\n",
        "    clusters = [[] for i in range(k)]\n",
        "    \n",
        "    #Verifica qual centroide esta mais perto de cada instância e insere o índice desses elementos em seus respectivos clusters\n",
        "    for j in range(len(data)):\n",
        "      row=data[j]\n",
        "      best_centroid = 0 \n",
        "      min_distance = np.inf\n",
        "      \n",
        "      for i in range(k):\n",
        "        #Calcula a distância do elemento em relação ao centróide desse cluster\n",
        "        d = euclidiana(centroids[i],row) \n",
        "         \n",
        "        #Se ele está mais perto que a menor distância atual, esse centróide passa a ser o melhor candidato \n",
        "        if d < min_distance:\n",
        "          min_distance = d\n",
        "          best_centroid = i\n",
        "\n",
        "      clusters[best_centroid].append(j)\n",
        "\n",
        "\n",
        "    #Gera novos centróides a partir da média\n",
        "    for ix, cluster in enumerate(clusters):\n",
        "      \n",
        "      averages = np.zeros(len(data[0])) # retorna um vetor de x zeros, tal que x é o número de colunas do dataset\n",
        "     \n",
        "      #Somatória dos elementos de cada coluna\n",
        "      for col in range(len(data[0])):\n",
        "        for i in cluster:\n",
        "          averages[col] += data[i][col]\n",
        "          \n",
        "      \n",
        "      #Dividindo a soma pela quantidade de elementos no cluster\n",
        "      for j in range(len(averages)):\n",
        "        averages[j] /= len(cluster)\n",
        "\n",
        "      #Elegendo o novo centróide\n",
        "      centroids[ix] = averages\n",
        "  \n",
        "  return clusters, centroids\n",
        "\n",
        "\n",
        "def generateMatrixWithClusterColumn(clusters, dataset, classes):\n",
        "  newMatrixWithCluster = [[] for i in range(len(dataset))]\n",
        "  \n",
        "  for cluster_idx,cluster in enumerate(clusters):\n",
        "    for item_idx,item in enumerate(cluster):\n",
        "      newMatrixWithCluster[item] = np.append(dataset[item], [cluster_idx])\n",
        "  \n",
        "  newMatrix = pd.DataFrame(newMatrixWithCluster)\n",
        "  newMatrix['classe'] = classes\n",
        "  return newMatrix"
      ],
      "execution_count": 131,
      "outputs": []
    },
    {
      "cell_type": "code",
      "metadata": {
        "id": "xsRbEJb49PRX"
      },
      "source": [
        "# CELULA 3\n",
        "#Cria a tabela organizando os clusters em linhas e as classes em colunas, também preenchendo a quantidade de cada cluster em cada classe\n",
        "def createClassTable(df, numClusters):\n",
        "  classes = df.classe.unique()\n",
        "  tabela = np.zeros([numClusters + 1, len(classes)])\n",
        "  df_tabela = pd.DataFrame(tabela, columns= classes)\n",
        "\n",
        "  for i in range(df.shape[0]):\n",
        "    index = df.iloc[i,-2]\n",
        "    column = df.iloc[i,-1]\n",
        "    df_tabela.loc[index, column] += 1\n",
        "\n",
        "\n",
        "  for j in range(df_tabela.shape[1]):\n",
        "    df_tabela.iloc[numClusters, j] = sum(df_tabela.iloc[:,j])\n",
        "\n",
        "  return df_tabela\n",
        "\n"
      ],
      "execution_count": 132,
      "outputs": []
    },
    {
      "cell_type": "code",
      "metadata": {
        "id": "JW4EXkODDPAa"
      },
      "source": [
        "# CELULA 4\n",
        "#Calcula a pureza de cada cluster e também a pureza total\n",
        "def calculatePurity(df):\n",
        "  purity = []\n",
        "  num_elem_total = df.iloc[-1,:].sum()\n",
        "  total_purity = 0\n",
        "  for i in range(df.shape[0] - 1):\n",
        "    num_elem_cluster = df.iloc[i,:].sum()\n",
        "    max_class = df.iloc[i,:].max()\n",
        "    cluster_purity = max_class/num_elem_cluster\n",
        "    purity.append(cluster_purity)\n",
        "    total_purity += ((num_elem_cluster/num_elem_total)*cluster_purity)\n",
        "\n",
        "  purity.append(total_purity)\n",
        "    \n",
        "  df['purity'] = purity\n",
        "\n",
        "  return df\n",
        "\n"
      ],
      "execution_count": 133,
      "outputs": []
    },
    {
      "cell_type": "code",
      "metadata": {
        "id": "fn8z2VNP26hQ"
      },
      "source": [
        "\n",
        "# CELULA 5\n",
        "\n",
        "def main(import_file_path, export_file_path, number_of_clusters):\n",
        "  dataset, classe = le_arq(import_file_path)\n",
        "\n",
        "  # abaixo, será retornado uma lista de duas dimensões com os índices de cada cluster\n",
        "  clusters, centroids = Kcluster(dataset,number_of_clusters)\n",
        "\n",
        "  # newMatrix vai conter o dataset original com a nova coluna do cluster\n",
        "  newMatrix = generateMatrixWithClusterColumn(clusters, dataset, classe)\n",
        "\n",
        "  class_table = createClassTable(newMatrix, number_of_clusters)\n",
        "  purity_table = calculatePurity(class_table)\n",
        "\n",
        "  \n",
        "  # Insere o grupo correspondente na última coluna\n",
        "  exportToCsv(newMatrix, export_file_path, purity_table, str(number_of_clusters))\n",
        "\n",
        "  print(\"=================================================================================================\")\n",
        "  print(\"Dataset: \", import_file_path)\n",
        "  print(\"Aplicou o algorítmo k-means com k=\", number_of_clusters)\n",
        "  print(\"O dataset com a última coluna contendo o cluster do objeto pode ser encontrado em: \", export_file_path)\n",
        "  print(\"=================================================================================================\")"
      ],
      "execution_count": 134,
      "outputs": []
    },
    {
      "cell_type": "code",
      "metadata": {
        "id": "ro0BgjvX3mXs",
        "outputId": "0a2d1ff2-cf55-466e-d470-884cdaa26ae6",
        "colab": {
          "base_uri": "https://localhost:8080/",
          "height": 328
        }
      },
      "source": [
        "#CELULA 6\n",
        "# main()\n",
        "main(\"/content/gdrive/My Drive/Agrupamentos/Atividade14/iris.data\", \"/content/gdrive/My Drive/Agrupamentos/Atividade14/\", 2)\n",
        "main(\"/content/gdrive/My Drive/Agrupamentos/Atividade14/iris.data\", \"/content/gdrive/My Drive/Agrupamentos/Atividade14/\", 3)\n",
        "main(\"/content/gdrive/My Drive/Agrupamentos/Atividade14/iris.data\", \"/content/gdrive/My Drive/Agrupamentos/Atividade14/\", 4)"
      ],
      "execution_count": 135,
      "outputs": [
        {
          "output_type": "stream",
          "text": [
            "/usr/local/lib/python3.6/dist-packages/ipykernel_launcher.py:40: FutureWarning: Using a non-tuple sequence for multidimensional indexing is deprecated; use `arr[tuple(seq)]` instead of `arr[seq]`. In the future this will be interpreted as an array index, `arr[np.array(seq)]`, which will result either in an error or a different result.\n"
          ],
          "name": "stderr"
        },
        {
          "output_type": "stream",
          "text": [
            "=================================================================================================\n",
            "Dataset:  /content/gdrive/My Drive/Agrupamentos/Atividade14/iris.data\n",
            "Aplicou o algorítmo k-means com k= 2\n",
            "O dataset com a última coluna contendo o cluster do objeto pode ser encontrado em:  /content/gdrive/My Drive/Agrupamentos/Atividade14/\n",
            "=================================================================================================\n",
            "=================================================================================================\n",
            "Dataset:  /content/gdrive/My Drive/Agrupamentos/Atividade14/iris.data\n",
            "Aplicou o algorítmo k-means com k= 3\n",
            "O dataset com a última coluna contendo o cluster do objeto pode ser encontrado em:  /content/gdrive/My Drive/Agrupamentos/Atividade14/\n",
            "=================================================================================================\n",
            "=================================================================================================\n",
            "Dataset:  /content/gdrive/My Drive/Agrupamentos/Atividade14/iris.data\n",
            "Aplicou o algorítmo k-means com k= 4\n",
            "O dataset com a última coluna contendo o cluster do objeto pode ser encontrado em:  /content/gdrive/My Drive/Agrupamentos/Atividade14/\n",
            "=================================================================================================\n"
          ],
          "name": "stdout"
        }
      ]
    }
  ]
}